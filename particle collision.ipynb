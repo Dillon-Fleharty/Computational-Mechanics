{
 "cells": [
  {
   "cell_type": "code",
   "execution_count": 5,
   "id": "7691ab69",
   "metadata": {
    "scrolled": false
   },
   "outputs": [
    {
     "data": {
      "text/html": [
       "<div id=\"glowscript\" class=\"glowscript\"></div>"
      ],
      "text/plain": [
       "<IPython.core.display.HTML object>"
      ]
     },
     "metadata": {},
     "output_type": "display_data"
    },
    {
     "data": {
      "application/javascript": [
       "if (typeof Jupyter !== \"undefined\") { window.__context = { glowscript_container: $(\"#glowscript\").removeAttr(\"id\")};}else{ element.textContent = ' ';}"
      ],
      "text/plain": [
       "<IPython.core.display.Javascript object>"
      ]
     },
     "metadata": {},
     "output_type": "display_data"
    },
    {
     "name": "stdout",
     "output_type": "stream",
     "text": [
      "\n",
      "Impulse on ball one is: <-0.577414, 0.1173, 0> N s\n",
      "Ball 1 change of momentum: <-0.577414, 0.1173, 0> kg m/s\n",
      "\n",
      "Impulse on ball 2: <0.577414, -0.1173, -0> N s\n",
      "Ball 2 change of momentum: <0.577414, -0.1173, 0> kg m/s\n",
      "Initial mechanical: 0.8999975510667553\n",
      "\n",
      "Final mechanical: 0.9071724490344598 J\n"
     ]
    }
   ],
   "source": [
    "import numpy as np\n",
    "import matplotlib.pyplot as plt\n",
    "import vpython as vp\n",
    "import math\n",
    "\n",
    "\n",
    "#Constants\n",
    "m = 0.1 #kg\n",
    "radius = 0.3 \n",
    "A = 0.3\n",
    "B = 0.1\n",
    "m = 0.1 \n",
    "dt = .0001\n",
    "\n",
    "\n",
    "#Initial\n",
    "r1 = vp.vector(-5, .1, 0)\n",
    "r2 = vp.vector(5, 0, 0)\n",
    "v1 = vp.vector(3, 0 , 0)\n",
    "v2 = vp.vector(-3, 0, 0)\n",
    "t = 0\n",
    "J = vp.vector(0,0,0)\n",
    "\n",
    "\n",
    "scene = vp.canvas()\n",
    "ball1 = vp.sphere(pos=r1,\n",
    "                  radius = radius,\n",
    "                  color = vp.color.white,\n",
    "                  vel = v1,\n",
    "                  acc = vp.vector(0,0,0),\n",
    "                  mass = m, make_trail = True)\n",
    "\n",
    "ball2 = vp.sphere(pos=r2,\n",
    "                  radius = radius,\n",
    "                  color = vp.color.blue,\n",
    "                  vel = v2,\n",
    "                  acc = vp.vector(0,0,0),\n",
    "                  mass = m, make_trail = True)\n",
    "\n",
    "#Force vs distance\n",
    "vp.graph(title = 'Force vs Distance',\n",
    "        xtitle = 'Distance (d)',\n",
    "        ytitle = 'Force (N)')\n",
    "\n",
    "fdGraph = vp.gcurve(color = vp.color.blue)\n",
    "\n",
    "#Force vs time\n",
    "vp.graph(title = 'Force vs Time',\n",
    "        xtitle = 'Time (s)',\n",
    "        ytitle = 'Force (N)')\n",
    "\n",
    "ftGraph = vp.gcurve(color = vp.color.green)\n",
    "\n",
    "#Potential vs time\n",
    "vp.graph(title = 'Potential vs Time',\n",
    "        xtitle = 'Time (s)',\n",
    "        ytitle = 'Potential (J)')\n",
    "\n",
    "UtGraph = vp.gcurve(color = vp.color.purple)\n",
    "\n",
    "#Kinetic vs time\n",
    "vp.graph(title = 'Kinetic vs Time',\n",
    "        xtitle = 'Time (s)',\n",
    "        ytitle = 'Kinetic (J)')\n",
    "\n",
    "KtGraph = vp.gcurve(color = vp.color.red)\n",
    "\n",
    "#Mechanical vs time\n",
    "vp.graph(title = 'Mechanical vs Time',\n",
    "        xtitle = 'Time (s)',\n",
    "        ytitle = 'Mechanic (J)')\n",
    "\n",
    "EtGraph = vp.gcurve(color = vp.color.yellow)\n",
    "\n",
    "def potential_energy(r):\n",
    "    U = A/(6*r.mag**6) - B/(4*r.mag**4)\n",
    "    return U\n",
    "\n",
    "def kinetic_energy(v1, v2):\n",
    "    K = 1/2*ball1.mass*v1.mag2 + 1/2*ball2.mass*v2.mag2\n",
    "    return K\n",
    "    \n",
    "def Fnet(r):\n",
    "    F = (A/((r.mag)**7) - B/((r.mag)**5))*r.hat\n",
    "    return F\n",
    "\n",
    "\n",
    "#scene = vp.canvas()\n",
    "while(t<3):\n",
    "    \n",
    "    vp.rate(1/dt)\n",
    "    \n",
    "    d = ball1.pos - ball2.pos\n",
    "    F = Fnet(d)\n",
    "    \n",
    "    fdGraph.plot(d.mag, F.mag)\n",
    "    ftGraph.plot(t, F.mag)\n",
    "    \n",
    "    ball1.acc = F/m\n",
    "    ball2.acc = -F/m\n",
    "    \n",
    "    ball1.pos += ball1.vel * dt \n",
    "    \n",
    "    ball1.vel += ball1.acc*dt\n",
    "    \n",
    "    ball2.pos += ball2.vel * dt\n",
    "    ball2.vel += ball2.acc * dt\n",
    "    \n",
    "    J += F * dt\n",
    "    U = potential_energy(d)\n",
    "    K = kinetic_energy(ball1.vel, ball2.vel)\n",
    "    \n",
    "    if t == 0:\n",
    "        \n",
    "        kinetic = K\n",
    "        potential = U\n",
    "    \n",
    "    UtGraph.plot(t, U)\n",
    "    KtGraph.plot(t, K)\n",
    "    EtGraph.plot(t, K+U)\n",
    "    \n",
    "    t += dt\n",
    "\n",
    "    \n",
    "print(\"\\nImpulse on ball one is:\", J, \"N s\")\n",
    "\n",
    "dp1 = ball1.mass*(ball1.vel-v1)\n",
    "\n",
    "print(\"Ball 1 change of momentum:\", dp1, \"kg m/s\")\n",
    "\n",
    "print(\"\\nImpulse on ball 2:\", -J, \"N s\")\n",
    "\n",
    "dp2 = ball2.mass*(ball2.vel-v2)\n",
    "\n",
    "print(\"Ball 2 change of momentum:\", dp2, \"kg m/s\")\n",
    "print(\"Initial mechanical:\", kinetic+potential)\n",
    "\n",
    "print(\"\\nFinal mechanical:\", K+U, \"J\")\n",
    "\n"
   ]
  },
  {
   "cell_type": "code",
   "execution_count": null,
   "id": "5df8efc4",
   "metadata": {},
   "outputs": [],
   "source": []
  },
  {
   "cell_type": "code",
   "execution_count": null,
   "id": "64a418c5",
   "metadata": {},
   "outputs": [],
   "source": []
  },
  {
   "cell_type": "code",
   "execution_count": null,
   "id": "221ec02c",
   "metadata": {},
   "outputs": [],
   "source": []
  }
 ],
 "metadata": {
  "kernelspec": {
   "display_name": "Python 3 (ipykernel)",
   "language": "python",
   "name": "python3"
  },
  "language_info": {
   "codemirror_mode": {
    "name": "ipython",
    "version": 3
   },
   "file_extension": ".py",
   "mimetype": "text/x-python",
   "name": "python",
   "nbconvert_exporter": "python",
   "pygments_lexer": "ipython3",
   "version": "3.9.12"
  }
 },
 "nbformat": 4,
 "nbformat_minor": 5
}
