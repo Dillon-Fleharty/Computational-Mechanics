{
 "cells": [
  {
   "cell_type": "markdown",
   "id": "7de9d7b0",
   "metadata": {},
   "source": [
    "# Computational Lab #1\n"
   ]
  },
  {
   "cell_type": "code",
   "execution_count": 1,
   "id": "004f4386",
   "metadata": {
    "scrolled": false
   },
   "outputs": [
    {
     "data": {
      "text/html": [
       "<div id=\"glowscript\" class=\"glowscript\"></div>"
      ],
      "text/plain": [
       "<IPython.core.display.HTML object>"
      ]
     },
     "metadata": {},
     "output_type": "display_data"
    },
    {
     "data": {
      "application/javascript": [
       "if (typeof Jupyter !== \"undefined\") { window.__context = { glowscript_container: $(\"#glowscript\").removeAttr(\"id\")};}else{ element.textContent = ' ';}"
      ],
      "text/plain": [
       "<IPython.core.display.Javascript object>"
      ]
     },
     "metadata": {},
     "output_type": "display_data"
    },
    {
     "data": {
      "text/html": [
       "<div id=\"glowscript\" class=\"glowscript\"></div>"
      ],
      "text/plain": [
       "<IPython.core.display.HTML object>"
      ]
     },
     "metadata": {},
     "output_type": "display_data"
    },
    {
     "data": {
      "application/javascript": [
       "if (typeof Jupyter !== \"undefined\") { window.__context = { glowscript_container: $(\"#glowscript\").removeAttr(\"id\")};}else{ element.textContent = ' ';}"
      ],
      "text/plain": [
       "<IPython.core.display.Javascript object>"
      ]
     },
     "metadata": {},
     "output_type": "display_data"
    },
    {
     "data": {
      "application/javascript": [
       "if (typeof Jupyter !== \"undefined\") {require.undef(\"nbextensions/vpython_libraries/glow.min\");}else{element.textContent = ' ';}"
      ],
      "text/plain": [
       "<IPython.core.display.Javascript object>"
      ]
     },
     "metadata": {},
     "output_type": "display_data"
    },
    {
     "data": {
      "application/javascript": [
       "if (typeof Jupyter !== \"undefined\") {require.undef(\"nbextensions/vpython_libraries/glowcomm\");}else{element.textContent = ' ';}"
      ],
      "text/plain": [
       "<IPython.core.display.Javascript object>"
      ]
     },
     "metadata": {},
     "output_type": "display_data"
    },
    {
     "data": {
      "application/javascript": [
       "if (typeof Jupyter !== \"undefined\") {require.undef(\"nbextensions/vpython_libraries/jquery-ui.custom.min\");}else{element.textContent = ' ';}"
      ],
      "text/plain": [
       "<IPython.core.display.Javascript object>"
      ]
     },
     "metadata": {},
     "output_type": "display_data"
    },
    {
     "data": {
      "application/javascript": [
       "if (typeof Jupyter !== \"undefined\") {require([\"nbextensions/vpython_libraries/glow.min\"], function(){console.log(\"GLOW LOADED\");});}else{element.textContent = ' ';}"
      ],
      "text/plain": [
       "<IPython.core.display.Javascript object>"
      ]
     },
     "metadata": {},
     "output_type": "display_data"
    },
    {
     "data": {
      "application/javascript": [
       "if (typeof Jupyter !== \"undefined\") {require([\"nbextensions/vpython_libraries/glowcomm\"], function(){console.log(\"GLOWCOMM LOADED\");});}else{element.textContent = ' ';}"
      ],
      "text/plain": [
       "<IPython.core.display.Javascript object>"
      ]
     },
     "metadata": {},
     "output_type": "display_data"
    },
    {
     "data": {
      "application/javascript": [
       "if (typeof Jupyter !== \"undefined\") {require([\"nbextensions/vpython_libraries/jquery-ui.custom.min\"], function(){console.log(\"JQUERY LOADED\");});}else{element.textContent = ' ';}"
      ],
      "text/plain": [
       "<IPython.core.display.Javascript object>"
      ]
     },
     "metadata": {},
     "output_type": "display_data"
    }
   ],
   "source": [
    "import vpython as vp\n",
    "import numpy as np\n",
    "\n",
    "\n",
    "#Initialize the sence (background)\n",
    "scene = vp.canvas()\n",
    "\n",
    "# Create ball size, velocity, and gravity\n",
    "ball = vp.sphere(pos = vp.vector(-4,2,0), \n",
    "                 radius = .3, \n",
    "                 color = vp.color.green,\n",
    "                 vel = vp.vector(15,0,0), \n",
    "                 gravity = vp.vector(0,9.8,0))\n",
    "\n",
    "# Create Wall\n",
    "wall = vp.box(pos = vp.vector(4,0,0), \n",
    "              size = vp.vector(0.01,10,10))\n",
    "\n",
    "# Horizontal Position vs Time Graph\n",
    "vp.graph(title = \"Horizontal Position Vs. Time\", \n",
    "         xtitle = \"Time (s)\",\n",
    "         ytitle = \"Position (m)\")\n",
    "\n",
    "xGraph = vp.gcurve(color = vp.color.blue)\n",
    "\n",
    "# Vertical Position vs Time Graph\n",
    "vp.graph(title = \"Vertical Position Vs. Time\", \n",
    "         xtitle = \"Time (s)\",\n",
    "         ytitle = \"Position (m)\")\n",
    "\n",
    "yGraph = vp.gcurve(color = vp.color.black)\n",
    "\n",
    "# Horizontal Position vs Velocity Graph\n",
    "vp.graph(title = \"Horizontal Velocity Vs. Time\", \n",
    "         xtitle = \"Time (s)\",\n",
    "         ytitle = \"Velocity (m/s)\")\n",
    "\n",
    "vxGraph = vp.gcurve(color = vp.color.black)\n",
    "\n",
    "# Vertical Velocity Vs. Tim\n",
    "vp.graph(title = \"Velocity (m/s) Vs. Time\", \n",
    "         xtitle = \"Time (s)\",\n",
    "         ytitle = \"Velocity (m/s)\")\n",
    "\n",
    "vyGraph = vp.gcurve(color = vp.color.black)\n",
    "\n",
    "# Move the ball\n",
    "t = 0\n",
    "dt = .001\n",
    "tmax = 1\n",
    "\n",
    "while t < tmax: \n",
    "    vp.rate(100)\n",
    "\n",
    "    # Set the ball in motion\n",
    "    ball.pos = ball.pos + ball.vel*dt\n",
    "    ball.vel = ball.vel - ball.gravity*dt\n",
    "    # Verify position where bouncing occurs\n",
    "    if ball.pos.x > (wall.pos.x - (ball.radius-.015)):\n",
    "        ball.vel.x = -ball.vel.x\n",
    "        \n",
    "    # Make Plots for Graph\n",
    "    xGraph.plot(t, ball.pos.x)\n",
    "    yGraph.plot(t, ball.pos.y)\n",
    "    vxGraph.plot(t, ball.vel.x)\n",
    "    vyGraph.plot(t, ball.vel.y)\n",
    "    \n",
    "    t = t + dt"
   ]
  },
  {
   "cell_type": "code",
   "execution_count": null,
   "id": "75cc312e",
   "metadata": {},
   "outputs": [],
   "source": []
  },
  {
   "cell_type": "code",
   "execution_count": null,
   "id": "d671f8ba",
   "metadata": {},
   "outputs": [],
   "source": []
  },
  {
   "cell_type": "code",
   "execution_count": null,
   "id": "d644e30d",
   "metadata": {},
   "outputs": [],
   "source": []
  }
 ],
 "metadata": {
  "kernelspec": {
   "display_name": "Python 3 (ipykernel)",
   "language": "python",
   "name": "python3"
  },
  "language_info": {
   "codemirror_mode": {
    "name": "ipython",
    "version": 3
   },
   "file_extension": ".py",
   "mimetype": "text/x-python",
   "name": "python",
   "nbconvert_exporter": "python",
   "pygments_lexer": "ipython3",
   "version": "3.9.12"
  }
 },
 "nbformat": 4,
 "nbformat_minor": 5
}
